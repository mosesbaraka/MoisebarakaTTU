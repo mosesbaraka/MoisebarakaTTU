{
 "cells": [
  {
   "cell_type": "markdown",
   "metadata": {},
   "source": [
    "# Laboratory Safety\n",
    "\n",
    "- Safety is of paramount importance in CE 3105 Fluids Laboratory\n",
    "- Students are required to adhere to all safety protocols and procedures while in the laboratory\n",
    "- Students not adhering to safety procedures or indulging in acts that violate laboratory safety standards will be expelled from the laboratory and may not allowed to participate in future experiments.\n",
    "- Students violating safety rules will be reported to appropriate authorities\n",
    "- Safety violations will also result in academic penalties including receiving a failure grade in the class\n",
    "\n",
    ":::{note}\n",
    "Directives issued in the laboratory by the instructor or his/her designee (Teaching Assistant) are to be followed immediately.  You can treat the directive the same way as you would follow airline crew instructions.  Failure to follow instructions earns you a trip to take the course another semester or at another university.\n",
    ":::"
   ]
  },
  {
   "cell_type": "markdown",
   "metadata": {},
   "source": [
    "## Laboratory Safety Rules\n",
    "\n",
    "### General Principles\n",
    "\n",
    "- Students must exercise common sense when handling equipment in the lab.\n",
    "- All CE 3105 experiments deal with water and laboratory equipment run on electricity\n",
    "- Water and electricity don’t mix well\n",
    "  - Don't become a conductor; keep water away from electrical connections\n",
    "  - Don't earn a Darwin award or a spot on [Dumb Ways to Die](https://www.youtube.com/watch?v=IJNR2EpS0jw)\n",
    "- The 110V single-phase sources are GFI protected; the 220V 3-Phase (the pump performance curve station is not)\n",
    "\n",
    ":::{note}\n",
    "Electricity leakage is sometimes detected by a slight tingling when you touch a cord or fitting.  If that happens, let go! and tell the instructor or assistant so we can inspect and repair the fitting.  Water leakage is going to happen, try to clean up splash and spills, and dont allow ponding to occur\n",
    ":::\n",
    "\n",
    "### Specific Rules\n",
    "\n",
    "You are required to follow the general principles and specific laboratory safety rules listed below:\n",
    "\n",
    "- The Instructor and Assistants have the final say with regards to safety rules (see the note above)\n",
    "- You are required to follow their instructions\n",
    "- You are required to wear closed toe shoes (No sandals)\n",
    "- You are required to wear full length trousers (no shorts, no skirts, no dresses) \n",
    "- You are required to wear safety goggles as appropriate and when asked to do so \n",
    "- Do not touch/operate equipment until directed to do so by the instructor \n",
    "- No FOOD or DRINK in the Laboratory \n",
    "- Do not enter the laboratory if you are intoxicated\n",
    "- Follow other instructions and guidelines set forth by the instructor"
   ]
  },
  {
   "cell_type": "markdown",
   "metadata": {},
   "source": [
    "### Laboratory Safety Training\n",
    "\n",
    "- You MUST complete the mandatory safety training before performing any experiment in the lab\n",
    "- The Mandatory training for CE 3105 includes: \n",
    "   - Texas Tech Lab Safety\n",
    "- You need to upload evidence of completion in the Blackboard. There is a folder for uploading your Lab Safety Certificates\n",
    "- You can upload valid certificates if you have taken the training previously for other classes in previous semesters\n",
    "   - Your certificate must however be valid till the end of this semester 12/06/2022\n",
    "   - Required TTU safety Training is valid for two years from when the certificate was issued\n",
    "   - If you are in doubt regarding the validity of your certificate, just retake the training!!\n",
    "\n",
    "## How to Access Training\n",
    "\n",
    "Go to: [https://www.depts.ttu.edu/ehs/Training/index.php](https://www.depts.ttu.edu/ehs/Training/index.php)\n",
    "\n",
    "Then select \"Request Training\"\n",
    "\n",
    "![](safetytrainingOne.png)\n",
    "\n",
    "<!--<figure align=\"center\">\n",
    "<img src=\"./safetytrainingOne.png\" width=\"800\"> \n",
    "    <figcaption>\n",
    "        Safety Training Web Page (Annotated)\n",
    "    </figcaption>\n",
    "</figure>-->\n",
    "\n",
    "Then complete the form on the web browser with your information as shown below.  Select <font color=\"magenta\">**Texas Tech-Lab Safety**</font> and submit the form.  You will receive an email shortly afterwards with the required link for taking the training.\n",
    "\n",
    "![](safetytrainingTwo.png)\n",
    "\n",
    "<!-- <figure align=\"center\">\n",
    "<img src=\"./safetytrainingTwo.png\" width=\"800\"> \n",
    "    <figcaption>\n",
    "        Training Request Web Page (Annotated)\n",
    "    </figcaption>\n",
    "</figure>-->\n",
    "\n",
    "Upon completion the training site will issue a completion certificate. Upload that certificate to Blackboard by the due date announced on the syllabus or by the instructor/teaching assistant.  Failure to complete training will result in removal from the course."
   ]
  },
  {
   "cell_type": "markdown",
   "metadata": {},
   "source": [
    "## References\n",
    "\n",
    "\n",
    "## Videos\n",
    "1. [Laboratory Safety Video by Dr. Uddameri](https://www.youtube.com/watch?v=pUG-buqVgGo)"
   ]
  },
  {
   "cell_type": "code",
   "execution_count": null,
   "metadata": {},
   "outputs": [],
   "source": []
  }
 ],
 "metadata": {
  "kernelspec": {
   "display_name": "Python 3",
   "language": "python",
   "name": "python3"
  },
  "language_info": {
   "codemirror_mode": {
    "name": "ipython",
    "version": 3
   },
   "file_extension": ".py",
   "mimetype": "text/x-python",
   "name": "python",
   "nbconvert_exporter": "python",
   "pygments_lexer": "ipython3",
   "version": "3.8.10"
  }
 },
 "nbformat": 4,
 "nbformat_minor": 4
}
