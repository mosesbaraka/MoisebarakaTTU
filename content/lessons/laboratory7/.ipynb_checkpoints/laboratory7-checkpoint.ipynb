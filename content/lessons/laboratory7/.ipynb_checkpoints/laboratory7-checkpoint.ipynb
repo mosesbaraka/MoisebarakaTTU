{
 "cells": [
  {
   "cell_type": "markdown",
   "metadata": {},
   "source": [
    "# 7. Pump Performance\n",
    "\n",
    "This laboratory determines performance characteristics of two mechanically identical pumps in various flow configurations.\n"
   ]
  },
  {
   "cell_type": "markdown",
   "metadata": {},
   "source": [
    "## Background\n",
    "\n",
    "### What is a pump?\n",
    "A mechanical device that transfers mechanical energy to move fluid\n",
    "- Lift from lower to higher elevation (Lift stations)\n",
    "- Increase pressure (Booster stations)\n",
    "\n",
    ">Pump Types:\n",
    ">- Positive Displacement Pumps (e.g. Archimedes Pumps; Piston Pumps; Progressive Cavity Pumps)\n",
    ">  - Fixed volume of fluid is displaced each cycle regardless of static head/pressure\n",
    ">  - Low flow rates and higher head than variable displacement pumps\n",
    ">-Variable Displacement Pumps (e.g. Axial Pumps; Centrifugal Pumps)\n",
    ">  - Volume of fluid is dependent on static head/pressure in system (back pressure)\n"
   ]
  },
  {
   "cell_type": "markdown",
   "metadata": {},
   "source": [
    "### Pump Hydraulics\n",
    "\n",
    "Individual pump performance is based on information from the manufacturer on the performance of pumps in the form of curves.  Information typically includes: \n",
    "- discharge on the x-axis\n",
    "- head on the left y-axis\n",
    "- pump power input on the right y-axis\n",
    "- pump efficiency as a percentage\n",
    "- speed of the pump (rpm)\n",
    "- NPSH of the pump\n",
    "\n",
    "![](pumpcurve.png)\n",
    "\n",
    "Pumps are selected to match system hydraulics (below) for an effective design."
   ]
  },
  {
   "cell_type": "markdown",
   "metadata": {},
   "source": [
    "### System Hydraulics\n",
    "\n",
    "A system (characteristic) curve is a plot of required head versus flow rate in a hydraulic system (H vs. Q) \n",
    "The curve depicts how much energy is necessary to maintain a steady flow under the supplied conditions\n",
    "Total head, $H_p$, = elevation head + head losses\n",
    "\n",
    "![](systemcurve.png)\n",
    "\n",
    "The system curve is the graphical representation of the system hydraulics such as\n",
    "\n",
    "![](systemequation.png)"
   ]
  },
  {
   "cell_type": "markdown",
   "metadata": {},
   "source": [
    "### Pump Performance/Selection\n",
    "\n",
    "A pump is selected to intersect a system curve at a desired design flow rate (usually a range of flows, but a single [operating point](http://54.243.252.9/ce-3305-webroot/ce3305s22book/_build/html/lessons/lesson15/pumpoppoint.html) is fine for discussion) like in the figure below\n",
    "\n",
    "![](operatingpoint.png)\n",
    "\n",
    "Different pumps perform differently\n",
    "\n",
    "![](pumpAandB.png) \n",
    "\n",
    "if more flow is desired, usually have to sacrifice added head.  If more head is desired usually have to sacrifice flow.  Hence in many cases multiple pumps are employed to increase pump station flexibility:\n",
    "\n",
    "![](multiplepumps.png)\n",
    "\n",
    "Parallel pumps increase total flow rate at about the same added head.\n",
    "\n",
    "![](parallelpumps.png)\n",
    "\n",
    "Series pumps increase added head at about the same flow rate.\n",
    "\n",
    "![](seriespumps.png)\n",
    "\n",
    "Laboratory 7 uses two identical pumps in a flow circuit that allows either pump to operate independently, or both pumps to operate in series, or parallel configurations."
   ]
  },
  {
   "cell_type": "markdown",
   "metadata": {},
   "source": [
    "## Apparatus Overview\n",
    "\n",
    "The machine is comprised of two pumps with special arrangements of pipework and valves. It is possible to set the pumps in single, parallel and series connections. Water is pumped from a reservoir through one-way valves and strainers. Water flows through inlet valves, pumps, pipework arrangement and directional valves before it goes through the venturi meter back to the reservoir.\n",
    "Pressures readings at different locations in the pipework and across the venturi meter can be observed in digital display. Flow can be calculated using the venturi meter. The pipe flow schematic is shown below\n",
    "\n",
    "![](flowcircuit.png)\n",
    "\n",
    "A photograph of the test station is annotated in the figure below\n",
    "\n",
    "![](pumpteststation.png)\n",
    "\n",
    "Total head is related to the pressure change across the pump:\n",
    "\n",
    "$$\\rho g H = P_{out}-P_{in}~~~ (1)$$\n",
    "\n",
    "It is the difference between the outlet and inlet pressures for single test (with pump 1). \n",
    "\n",
    "For the parallel pump it is the difference between the combined outlet pressure and the average of the two inlet pressures. \n",
    "\n",
    "For the series connection, it is the difference between outlet pressure of the second pump and the inlet pressure of the first pump.\n",
    "\n",
    "The total input power (mechanical power) is\n",
    "\n",
    "$$W_1 = \\frac{2\\pi N T}{60}~~~ (2)$$\n",
    "\n",
    "The motor drive display calculates the power automatically.\n",
    "\n",
    "The hydraulic power or the horsepower of the pump is\n",
    "\n",
    "$$W_2 = (\\rho g H)Q~~~ (3)$$\n",
    "\n",
    "The overall efficiency of the pump is\n",
    "\n",
    "$$\\eta = \\frac{W_2}{W_1}~~~ (4)$$\n",
    "\n",
    "The flowrate can be calculated directly from the pressure drop along the venturi:\n",
    "\n",
    "$$Q = C_d~A_1 \\sqrt{\\frac{2 \\Delta P}{\\rho (\\frac{A_1^2}{A_2^2} - 1)}}~~~ (5)$$\n",
    "\n",
    "Dimensionlal analysis and [similarity laws](http://54.243.252.9/ce-3305-webroot/ce3305s22book/_build/html/lessons/lesson15/affinitylaws.html) are often used to represent the performance of a morphologically similar class of pump.\n",
    "\n",
    "The useful dimensionless groups for homologous pumps (similar morphology) are:\n",
    "> $$C_Q = \\frac{Q}{ND^3}$$\n",
    "> $$C_H = \\frac{gH}{N^2D^2}$$\n",
    "> $$C_P = \\frac{W_2}{\\rho N^3 D^5}$$\n",
    "> $$Re_D = \\frac{\\rho N D^2}{\\mu}$$\n",
    "> $$N \\text{ is in radians per second.}$$\n",
    "\n",
    "These dimensionless groups will allow you to plot your data onto a single chart for a given design, usually Reynolds number is on the horizontal axis and the dimensionless group on the vertical axis.\n",
    "\n",
    "The relevant variables for the apparatus are:\n",
    "\n",
    "![](Variables.png)\n",
    "\n",
    "<hr>\n"
   ]
  },
  {
   "cell_type": "markdown",
   "metadata": {},
   "source": [
    "## Link to Laboratory Document\n",
    "\n",
    "1. [Laboratory 7 Tasklist](http://54.243.252.9/ce-3105-webroot/2-Exercises/laboratory7/laboratory7.html)\n",
    "2. [Laboratory 7 Instructional Video by Dr. Uddameri](https://www.youtube.com/watch?v=AOJljxHDtms)"
   ]
  },
  {
   "cell_type": "markdown",
   "metadata": {},
   "source": [
    "## References\n"
   ]
  },
  {
   "cell_type": "markdown",
   "metadata": {},
   "source": [
    "1. [Laboratory 7 Circa (2019)](http://54.243.252.9/ce-3105-webroot/pdf-source/Experiment7Pumptest.pdf)\n",
    "2. [FHWA Lift Station Design](http://54.243.252.9/ce-3105-webroot/ce3105notes/lessons/laboratory7/FHWA-NHI-01-007-LiftStationDesign.pdf)\n",
    "3. [Pump Selection](http://54.243.252.9/ce-3105-webroot/ce3105notes/lessons/laboratory7/PumpSelection.pdf)\n",
    "4. [Pump Suction Conditions](http://54.243.252.9/ce-3105-webroot/ce3105notes/lessons/laboratory7/PumpSuctionConditions.pdf)\n",
    "5. [Net Positive Suction Head](http://54.243.252.9/ce-3105-webroot/ce3105notes/lessons/laboratory7/NPSH-Explain.pdf)\n",
    "6. [Pumps and Lift Stations (excerpt from Water Systems Design)](http://54.243.252.9/ce-3105-webroot/ce3105notes/lessons/laboratory7/Lecture06.pdf)\n",
    "7. [Submersible Lift Stations Design (City of Houston Manual)](http://54.243.252.9/ce-3105-webroot/ce3105notes/lessons/laboratory7/2011_coh_design_manual_submersible_lift_stations.pdf)\n",
    "8. [Holman, J.P., (2012) Experimental Methods for Engineers, 8th Ed. (Chapters 5,6, and 10)](https://mech.at.ua/HolmanICS.pdf)\n",
    "<!--9. [Laboratory 7 Example Report](http://54.243.252.9/ce-3105-webroot/2-Exercises/laboratory7/Goby7.pdf)-->"
   ]
  },
  {
   "cell_type": "code",
   "execution_count": null,
   "metadata": {},
   "outputs": [],
   "source": []
  }
 ],
 "metadata": {
  "kernelspec": {
   "display_name": "Python 3",
   "language": "python",
   "name": "python3"
  },
  "language_info": {
   "codemirror_mode": {
    "name": "ipython",
    "version": 3
   },
   "file_extension": ".py",
   "mimetype": "text/x-python",
   "name": "python",
   "nbconvert_exporter": "python",
   "pygments_lexer": "ipython3",
   "version": "3.8.10"
  }
 },
 "nbformat": 4,
 "nbformat_minor": 4
}
