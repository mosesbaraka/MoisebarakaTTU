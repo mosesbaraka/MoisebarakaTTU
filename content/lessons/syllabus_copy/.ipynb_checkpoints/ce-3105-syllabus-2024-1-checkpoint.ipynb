{
 "cells": [
  {
   "cell_type": "markdown",
   "metadata": {},
   "source": [
    "# Syllabus \n",
    "\n",
    "## Course Catalog Description: \n",
    "(1) Mechanics of Fluids Laboratory. Prerequisite: CE 3305. Experimental studies of fluid behavior.\n",
    "\n",
    "## Prerequisites: \n",
    "CE 3305 or equivalent"
   ]
  },
  {
   "cell_type": "markdown",
   "metadata": {},
   "source": [
    "<!-- ## COVID-19 Important Guidelines:\n",
    "* If Texas Tech University campus operations are required to change because of health concerns related to the COVID-19 pandemic, it is possible that this course will move to a fully online delivery format.  Should that be necessary, students will be advised of technical and/or equipment requirements, including remote proctoring software.  \n",
    "\n",
    "* Policy on absences resulting from illness: We anticipate that some students may have extended absences.  To avoid students feeling compelled to attend in-person class periods when having symptoms or feeling unwell, a standard policy is provided that holds students harmless for illness-related absences (see Section A below).\n",
    "\n",
    "\n",
    "### A. Illness-Based Absence Policy (Face-to-Face Classes)\n",
    "If at any time during the semester you are ill, in the interest of your own health and safety as well as the health and safety of your instructors and classmates, you are encouraged not to attend face-to-face class meetings or events.  Please review the steps outlined below that you should follow to ensure your absence for illness will be excused.  These steps also apply to not participating in synchronous online class meetings if you feel too ill to do so and missing specified assignment due dates in asynchronous online classes because of illness.\n",
    "\n",
    "1. If you are ill and think the symptoms might be COVID-19-related:\n",
    "\n",
    "    1. Call Student Health Services at 806.743.2848 or your health care provider.  During after-hours and on weekends, contact TTU COVID-19 Helpline at TBD.\n",
    "    2. Self-report as soon as possible using the Dean of Students COVID-19 webpage. This website has specific directions about how to upload documentation from a medical provider and what will happen if your illness renders you unable to participate in classes for more than one week.\n",
    "    3. If your illness is determined to be COVID-19-related, all remaining documentation and communication will be handled through the Office of the Dean of Students, including notification of your instructors of the time you may be absent from and may return to classes.\n",
    "    4. If your illness is determined not to be COVID-19-related, please follow steps 2.a-d below.\n",
    "\n",
    "\n",
    "2. If you are ill and can attribute your symptoms to something other than COVID-19:\n",
    "\n",
    "    1. If your illness renders you unable to attend face-to-face classes, participate in synchronous online classes, or miss specified assignment due dates in asynchronous online classes, you are encouraged to contact either Student Health Services at 806.743.2848 or your health care provider.  Note that Student Health Services and your own and other health care providers may arrange virtual visits.\n",
    "    2. During the health provider visit, request a “return to school” note.\n",
    "    3. E-mail the instructor a picture of that note.\n",
    "    4. Return to class by the next class period after the date indicated on your note.\n",
    "\n",
    "Following the steps outlined above helps to keep your instructors informed about your absences and ensures your absence or missing an assignment due date because of illness will be marked excused.  You will still be responsible to complete within a week of returning to class any assignments, quizzes, or exams you miss because of illness.\n",
    "\n",
    "### B. Illness-Based Absence Policy (Telepresence/On-Line Classes)\n",
    "Same as above with respect potential to infect others; go to a health care provider if you are ill.  Telepresence courses are recorded and will be available on TTU MediaSite and/or YouTube (unlisted).  Exercises, Quizzes, and Examinations are all administered by a Learning Management System (Blackboard) and students need to allow enough time to complete and upload their work.  Due date adjustments/late submits on case-by-case basis; documentation required as in subsection **A** above. -->"
   ]
  },
  {
   "cell_type": "markdown",
   "metadata": {},
   "source": [
    "## Course Sections\n",
    "Lesson time, days, and location: \n",
    "\n",
    "1. Section 303; CRN 40309; 1300-1550 M ; CE 007 ; Lab TA TBD\n",
    "2. Section 304; CRN 54141; 0900-1150 W ; CE 007 ; Lab TA TBD\n",
    "4. Section 301; CRN 29480; 1300-1550 F ; CE 007 ; Lab TA TBD"
   ]
  },
  {
   "cell_type": "markdown",
   "metadata": {},
   "source": [
    "## Course Instructor:\n",
    "\n",
    "Instructor: Theodore G. Cleveland, Ph.D., P.E., M. ASCE, F. EWRI\n",
    "\n",
    "Email: theodore.cleveland@ttu.edu  (put CE 3105 in subject line for email related to this class)\n",
    "\n",
    "Office location: CECE 203F\n",
    "\n",
    "Office hours: TBD "
   ]
  },
  {
   "cell_type": "markdown",
   "metadata": {},
   "source": [
    "## Teaching Assistant:\n",
    "\n",
    "Teaching Assistant(s): \n",
    "\n",
    "1. Lorena Albuquerque Zanandreis email: lzanandr@ttu.edu (put CE 3105 in subject line for email related to this class) \n",
    "2. Moises Barake email: mbaraka@ttu.edu (put CE 3105 in subject line for email related to this class) \n"
   ]
  },
  {
   "cell_type": "markdown",
   "metadata": {},
   "source": [
    "## Textbook(s): \n",
    "[Instructor Notes](http://54.243.252.9/ce-3105-webroot/ce3105notes/_build/html/intro.html) are available and will serve as the textbook.\n",
    "\n",
    "[Supplimental Readings](http://54.243.252.9/ce-3105-webroot/3-Readings/) if any, are stored on the class server.  "
   ]
  },
  {
   "cell_type": "markdown",
   "metadata": {},
   "source": [
    "## Course Objectives: \n",
    "Draw the student's attention the behavior of real fluids and to  expose  students  to  the  experimental  method.    The  class  will  also  improve  technical  writing skills and prepare students for the fluid mechanics section of the FE Exam. This course emphasizes collaboration through group work, and as such, a portion of the course grade will be based upon peer assessment. "
   ]
  },
  {
   "cell_type": "markdown",
   "metadata": {},
   "source": [
    "## Knowledge, Skills, Abilities (KSA) :\n",
    "During this course the student will\n",
    "1. Use measured and tabulated fluid properties with correct units to solve fluid problems. \n",
    "2. Solve manometer problems through application of fundamental equation of fluid statics. \n",
    "3. Determine the pressures, and forces and their line of action, for a fluid at rest on plane and curved surfaces. 4. Identify a control volume. \n",
    "5. Be able to apply the conservation of mass principle to a control volume. \n",
    "6. Be able to apply the conservation of energy principle to a control volume. \n",
    "7. Be able to apply the conservation of momentum principle to a control volume. \n",
    "8. Solve channel transitions (width/bed level changes) in open channel flow problems. \n",
    "9. Observe the difference between the behavior of a real and a theoretical fluid. "
   ]
  },
  {
   "cell_type": "markdown",
   "metadata": {},
   "source": [
    "## ABET Student Outcomes\n",
    "* Engineering:\n",
    "    1. An ability to identify, formulate, and solve complex engineering problems by applying principles of engineering, science, and mathematics.\n",
    "    2. An ability to acquire and apply new knowledge as needed, using appropriate learning strategies. \n",
    " "
   ]
  },
  {
   "cell_type": "markdown",
   "metadata": {},
   "source": [
    "## Resources/Tools\n",
    "\n",
    "Computational tools equivalent to those used in ENGR 1330 are expected.  Professional software is used in the course; these are downloaded from the original sources (USGS and COE)\n",
    "\n",
    "### Hardware Requirements\n",
    "The college of engineering has specific laptop requirements for courses that are listed at https://www.depts.ttu.edu/coe/dean/engineeringitservices/buyingtherightcomputer.php\n",
    "\n",
    "A minimal AWS Lightsail Instance (use Windows Server 2000 template; lowest resource provision tier; AWS RDP client, or download and install own RDP client) is sufficient to run the course software if you are incapable of installation onto your own laptop.\n",
    "\n",
    "### Learning Management System\n",
    "Blackboard(BB) is used as the learning management system (LMS) for this class and all exercises are to be uploaded to BB.  **Late submissions are accepted, but scores are automatically reduced by 50%**. \n",
    "\n",
    "### Laboratory Notes \n",
    "The laboratory notes are located at [http://54.243.252.9/ce-3105-webroot/ce3105notes/_build/html/intro.html](http://54.243.252.9/ce-3105-webroot/ce3105notes/_build/html/intro.html)"
   ]
  },
  {
   "cell_type": "code",
   "execution_count": 11,
   "metadata": {},
   "outputs": [
    {
     "data": {
      "text/html": [
       "<style> table {margin-left: 0 !important;} </style>\n"
      ],
      "text/plain": [
       "<IPython.core.display.HTML object>"
      ]
     },
     "metadata": {},
     "output_type": "display_data"
    }
   ],
   "source": [
    "%%html\n",
    "<style> table {margin-left: 0 !important;} </style>"
   ]
  },
  {
   "cell_type": "markdown",
   "metadata": {},
   "source": [
    "## Course Schedule ##"
   ]
  },
  {
   "cell_type": "markdown",
   "metadata": {},
   "source": [
    "|date|topic|readings|homework|\n",
    "|:---|:---|:---|:---|\n",
    "|08-12 Jan 2024|[Week 1 - (Partial Week) Syllabus](http://54.243.252.9/ce-3105-webroot/0-Syllabus/ce-3105-syllabus-2023-1.html)|[Syllabus](http://54.243.252.9/ce-3105-webroot/0-Syllabus/ce-3105-syllabus-2023-1.html)||\n",
    "|15-19 Jan 2024|[Week 2 (Partial Week) - Introduction](http://54.243.252.9/ce-3105-webroot/ce3105notes/_build/html/intro.html) <br> - Laboratory Safety <br> - Team Assignments <br> - Lab Reports |[- Laboratory Safety](http://54.243.252.9/ce-3105-webroot/ce3105notes/_build/html/lessons/safety.html) <br> [- Lab Reports](http://54.243.252.9/ce-3105-webroot/ce3105notes/_build/html/lessons/laboratory0.html)||\n",
    "|22-26 Jan 2024|[Week 3 - Introduction](http://54.243.252.9/ce-3105-webroot/ce3105notes/_build/html/intro.html) <br> - Laboratory Safety <br> - Team Assignments <br> - Lab Reports|[- Laboratory Safety](http://54.243.252.9/ce-3105-webroot/ce3105notes/_build/html/lessons/safety.html) <br> [- Lab Reports](http://54.243.252.9/ce-3105-webroot/ce3105notes/_build/html/lessons/laboratory0.html)||\n",
    "|29 Jan - 02 Feb 2024|[Week 4 - Fluid Properties](http://54.243.252.9/ce-3105-webroot/ce3105notes/_build/html/lessons/laboratory1.html) <br> - Density <br> - Viscosity |- [Laboratory 1](http://54.243.252.9/ce-3105-webroot/2-Exercises/laboratory1/laboratory1.html)|<font color=\"red\">Submit Safety Certificates on BB</font>|\n",
    "|05-09 Feb 2024|[Week 5 - Displacement](http://54.243.252.9/ce-3105-webroot/ce3105notes/_build/html/lessons/laboratory2/laboratory2.html)  <br> - Archimedes Principle <br> - Bouyancy |- [Laboratory 2](http://54.243.252.9/ce-3105-webroot/2-Exercises/laboratory2/laboratory2.html)| <font color=\"red\">Submit Laboratory 1 Report and Effort Sheet on BB</font><br><font color=\"red\">Quiz 1 on BB</font>|\n",
    "|12-16 Feb 2024|<font color=\"green\">Week 6 - No Labs (Job Fair)</font>|||\n",
    "|19-23 Feb 2024|[Week 7 - Flow Measurement](http://54.243.252.9/ce-3105-webroot/ce3105notes/_build/html/lessons/laboratory3/laboratory3.html) <br> - Time-to-Fill <br> - Venturi <br> - Rotameter|- [Laboratory 3](http://54.243.252.9/ce-3105-webroot/2-Exercises/laboratory3/laboratory3.html)|<font color=\"red\">Submit Laboratory 2 Report and Effort Sheet on BB</font><br><font color=\"red\">Quiz 2 on BB</font>|\n",
    "|26 Feb - 1 Mar 2024|[Week 8 - Friction Loss in a Pipe](http://54.243.252.9/ce-3105-webroot/ce3105notes/_build/html/lessons/laboratory4/laboratory4.html) <br> - Modified Bernoulli <br> - DW Head Loss Model |- [Laboratory 4](http://54.243.252.9/ce-3105-webroot/2-Exercises/laboratory4/laboratory4.html)|<font color=\"red\">Submit Laboratory 3 Report and Effort Sheet on BB</font><br><font color=\"red\">Quiz 3 on BB</font>|\n",
    "|04-08 Mar 2024|[Week 9 - Fitting Losses in a Pipe Network](http://54.243.252.9/ce-3105-webroot/ce3105notes/_build/html/lessons/laboratory5/laboratory5.html) <br> - Expansions/Contractions <br> - Bends <br> - Loss Model Structure |- [Laboratory 5](http://54.243.252.9/ce-3105-webroot/2-Exercises/laboratory5/laboratory5.html)|<font color=\"red\">Submit Laboratory 4 Report and Effort Sheet on BB</font><br><font color=\"red\">Quiz 4 on BB</font>|\n",
    "|11-15 Mar 2024|<font color=\"green\">Week 10 - No Labs (Spring Break)</font>|||\n",
    "|18-22 Mar 2024|[Week 11 - Momentum Transfer](http://54.243.252.9/ce-3105-webroot/ce3105notes/_build/html/lessons/laboratory6/laboratory6.html) <br> - Jet Impact on a Plate <br> - Team Assignments |- [Laboratory 6](http://54.243.252.9/ce-3105-webroot/2-Exercises/laboratory6/laboratory6.html)|<font color=\"red\">Submit Laboratory 5 Report and Effort Sheet on BB</font><br><font color=\"red\">Quiz 5 on BB</font>|\n",
    "|25-29 Mar 2024|[Week 12 - Pump Performance](http://54.243.252.9/ce-3105-webroot/ce3105notes/_build/html/lessons/laboratory7/laboratory7.html) <br> - Single Pump <br> - Pumps in Series <br> - Pumps in Parallel |- [Laboratory 7](http://54.243.252.9/ce-3105-webroot/2-Exercises/laboratory7/laboratory7.html)|<font color=\"red\">Submit Laboratory 6 Report and Effort Sheet on BB</font><br><font color=\"red\">Quiz 6 on BB</font>|\n",
    "|01 - 05 Apr|<font color=\"green\">Week 13 - No Labs (April 1 No Classes)</font>|||\n",
    "|08 - 12 Apr|[Week 14- Friction Losses in an Open Channel](http://54.243.252.9/ce-3105-webroot/ce3105notes/_build/html/lessons/laboratory8/laboratory8.html) <br> - Manning's Equation <br> - Weirs <br> - Momentum Conservation in a Hydraulic Jump |- [Laboratory 8](http://54.243.252.9/ce-3105-webroot/2-Exercises/laboratory8/laboratory8.html)|<font color=\"red\">Submit Laboratory 7 Report and Effort Sheet on BB</font><br><font color=\"red\">Quiz 7 on BB</font>|\n",
    "|15 - 19 Apr|<font color=\"green\">Week 15 - No Labs (Set up for Laboratory Exam) </font>||<font color=\"red\">Quiz 8 on BB</font>|\n",
    "|22 - 26 Apr|<font color=\"red\">Week 16 - Lab Exam </font>||<font color=\"red\">Submit Laboratory 8 Report and Effort Sheet on BB</font>|\n",
    "|29 Apr - 03 May 2024|<font color=\"green\">Week 17 - No Labs (Complete any outstanding reports)</font>||<font color=\"red\">No Submissions after 1 May 2024 will be scored</font>|\n"
   ]
  },
  {
   "cell_type": "markdown",
   "metadata": {},
   "source": [
    "---\n",
    "## Course Assessment and Grading Criteria:\n",
    "There will be 8-9 laboratory reports, 8-9 BB tests (quizzes), a comprehensive Lab exam, and 8-9 effort reports.  \n",
    "\n",
    "**Late** assignments will incur a substantial penalty. Anything uploaded after 1 May 2024 is not graded.\n",
    "\n",
    "Grades will be based on the following components; weighting is approximate:\n",
    "\n",
    "|Assessment Instrument|Weight(%)|\n",
    "|---|---:|\n",
    "|Laboratory Reports|50|\n",
    "|Effort Reports|10|\n",
    "|BB Quizzes|30|\n",
    "|Lab Final Exam|10|\n",
    "|Overall total|100|\n",
    "\n",
    "Letter grades will be assigned using the following proportions:\n",
    "\n",
    "|Normalized Score Range|Letter Grade|\n",
    "|:-|---:|\n",
    "|≥ 90|A| \n",
    "|80-89|B|\n",
    "|70-79|C|\n",
    "|55-69|D|\n",
    "|< 55|F|\n",
    "\n",
    "<!-- Scores as Quantiles Ranges\n",
    "|81-100|A| \n",
    "|61-80|B|\n",
    "|41-60|C|\n",
    "|21-40|D|\n",
    "|0-20|F|\n",
    "-->\n"
   ]
  },
  {
   "cell_type": "markdown",
   "metadata": {},
   "source": [
    "## Classroom Policy:\n",
    "The following activities are not allowed in the classroom: Texting or talking on the cellphone or other electronic devices, and reading non-course related materials.  Use of cellphones cameras for recording phenomena is allowed"
   ]
  },
  {
   "cell_type": "markdown",
   "metadata": {},
   "source": [
    "## Safety and Wellness Statement:\n",
    "\n",
    "The Texas Tech University (TTU) and Edward E. Whitacre Jr. College of Engineering are committed to the safety and wellness of our students by providing various services and resources. \n",
    "Make sure you register with [Tech Alert](https://appserv.itts.ttu.edu/emergencyalert) to get emergency notifications by phone call, text, or email. You are encouraged to review the [Emergency Action Plans (EAPs)](https://www.depts.ttu.edu/adminfinance/safety/emergency-management/action-plans/?gclid=EAIaIQobChMI_66xhsrp-AIVVGpvBB2SdwZiEAAYAiAAEgIYd_D_BwE) and watch the videos of [Know What To Do In Emergency Events](https://www.youtube.com/watch?v=4pTtmPSL4-I) and [Surviving an Active Shooter Event Training](https://www.depts.ttu.edu/ttpd/active_shooter.php) to be prepared for those emergency situations. Additionally, due to the nature of laboratory or design courses, it is mandatory for you to follow the [university safety policies](https://www.depts.ttu.edu/ehs/academicsafety/labsafetydocs/LabSafetyManual.pdf) and any additional safety training and protocols required by the course instructor(s). \n",
    "For your wellbeing, various services are available at [Student Counseling Center](https://www.depts.ttu.edu/scc/) and [Student Health Services](https://www.depts.ttu.edu/studenthealth/). The Student Wellness Center provides convenient walk-in services M-F from 8 AM to 5 PM. Furthermore, the Texas Tech Crisis HelpLine (806-742-5555) provides 24/7/365 assistance for students experiencing a crisis or distress. \n",
    "\n",
    "<!--![](PhoneNumbers.png)-->\n",
    "\n",
    "\n",
    "<div style=\"text-align: center;\">\n",
    "    Emergency/Crisis Phone Number(s)\n",
    "   </div>\n",
    "   \n",
    "|Entity Name|Phone Number|\n",
    "|---|---|\n",
    "|TTU Police (UPD) Emergency|911 |\n",
    "|TTU Police (UPD) Non-Emergency|806.742.3931|\n",
    "|TTU Emergency Maintenance|806.742.4OPS (4677)|\n",
    "|TTU EHS (M-F, 8 am – 5 pm)|806.742.3876|\n",
    "|SafeRide|806.742.RIDE (7433)|\n",
    "|TTU Crisis HelpLine|806.742.5555|\n",
    "|Student Wellness Center <br> (From Urgent Care to a Full-Service Pharmacy on site)|806.742.2848|\n",
    "    \n",
    "## Safety Training Requirement \n",
    "As part of our commitment to maintaining a safe learning environment, students are required to complete safety training before participating in any lab work or practical exercises. The safety training matrix and online safety training module are available from the Texas Tech Department of Environmental Health and Safety. Additional safety training may be required by the course instructor(s).\n",
    "\n",
    "### Laboratory Safety Training\n",
    "\n",
    "- You MUST complete the mandatory safety training before performing any experiment in the lab\n",
    "- The Mandatory training for CE 3105 includes: \n",
    "   - **Texas Tech Lab Safety**\n",
    "- **You need to upload evidence of completion in the Blackboard. There is a folder for uploading your Lab Safety Certificates**\n",
    "- You can upload valid certificates if you have taken the training previously for other classes in previous semesters\n",
    "   - Your certificate must however be valid till the end of this semester 05/11/2024\n",
    "   - Required TTU safety Training is valid for two years from when the certificate was issued\n",
    "   - If you are in doubt regarding the validity of your certificate, just retake the training!!"
   ]
  },
  {
   "cell_type": "markdown",
   "metadata": {},
   "source": [
    "## ADA Statement (OP 34.22): \n",
    "Any student who, because of a disability, may require special arrangements in order to meet\n",
    "the course requirements should contact the instructor as soon as possible to make any\n",
    "necessary arrangements. Students should present appropriate verification from Student\n",
    "Disability Services during the instructor's office hours. Please note: instructors are not allowed\n",
    "to provide classroom accommodations to a student until appropriate verification from Student\n",
    "Disability Services has been provided. For additional information, please contact Student\n",
    "Disability Services in Weeks Hall or call 806-742-2405.\n",
    "\n",
    "Any student who, because of a disability, may require special arrangements in order to meet the course requirements should contact the instructor as soon as possible to make necessary arrangements.  Students must present appropriate verification from Student Disability Services during the instructor's office hours.  Please note that instructors are not allowed to provide classroom accommodation to a student until appropriate verification from Student Disability Services has been provided.  For additional information, please contact Student Disability Services \n",
    "office in 335 West Hall or call 806.742.2405.\n",
    "\n",
    "## Academic Integrity Statement (OP 34.12):\n",
    "Academic integrity is taking responsibility for one’s own class and/or course work, being individually accountable, and demonstrating intellectual honesty and ethical behavior.  Academic integrity is a personal choice to abide by the standards of intellectual honesty and responsibility.  Because education is a shared effort to achieve learning through the exchange of ideas, students, faculty, and staff have the collective responsibility to build mutual trust and respect.  Ethical behavior and independent thought are essential for the highest level of academic achievement, which then must be measured.  Academic achievement includes scholarship, teaching, and learning, all of which are shared endeavors.  Grades are a device used to quantify the successful accumulation of knowledge through learning.  Adhering to the standards of academic integrity ensures grades are earned honestly.  Academic integrity is the foundation upon which students, faculty, and staff build their educational and professional careers.  [Texas Tech University (“University”) Quality Enhancement Plan, Academic Integrity Task Force, 2010](https://www.depts.ttu.edu/tlpdc/Resources/NewFacultyResources/Student_Handbook_Academic_Integrity_Procedures.pdf).\n",
    "\n",
    "## Religious Holy Day Statement (OP 34.19): \n",
    "\n",
    "1. \"Religious holy day\" means a holy day observed by a religion whose places of worship are exempt from property taxation under Texas Tax Code §11.20.\n",
    "2. A student who intends to observe a religious holy day should make that intention known in writing to the instructor prior to the absence. A student who is absent from classes for the observance of a religious holy day shall be allowed to take an examination or complete an assignment scheduled for that day within a reasonable time after the absence.\n",
    "3. A student who is excused under section 2 may not be penalized for the absence; however, the instructor may respond appropriately if the student fails to complete the assignment satisfactorily\n",
    "\n",
    "## Ethical Conduct Policy:\n",
    "Cheating is prohibited, and the representation of the work of another person as your own will be grounds for receiving a failing grade in the course.  \n",
    "- Use of [Large Language Generative Models](https://www.depts.ttu.edu/tlpdc/AIUSeAllowedwithDisclosureUpdated.pdf) is acceptable provided the acknowledgement discussed in the link is included. \n",
    "- [Suggestion for citing use of Language Generative Models](https://ttu.blackboard.com/bbcswebdav/institution/Recommended%20Syllabus%20Statements/AI%20Use%20Allowed%20with%20Disclosure%20and%20Citation.pdf)\n",
    "\n",
    "## Additional Recommended Statements\n",
    "1. [Discrimination, Harassment, and Sexual Violence Statement](https://www.depts.ttu.edu/tlpdc/DiscriminationHarrasmentSexualViolenceStatement.pdf)\n",
    "2. [Civility in the Classroom Statement](https://www.depts.ttu.edu/tlpdc/CivilityInTheClassroomStatement.pdf)\n",
    "3. [Plagarism Statement](https://ttu.blackboard.com/bbcswebdav/institution/Recommended%20Syllabus%20Statements/Plagiarism.pdf)\n",
    "3. [Student Support Statement](https://www.depts.ttu.edu/tlpdc/StudentSupportStatement.pdf)\n",
    "4. [Statement About Food Insecurity](https://www.depts.ttu.edu/tlpdc/FoodInsecurityStatement.pdf)\n",
    "   "
   ]
  },
  {
   "cell_type": "code",
   "execution_count": null,
   "metadata": {},
   "outputs": [],
   "source": []
  }
 ],
 "metadata": {
  "kernelspec": {
   "display_name": "Python 3",
   "language": "python",
   "name": "python3"
  },
  "language_info": {
   "codemirror_mode": {
    "name": "ipython",
    "version": 3
   },
   "file_extension": ".py",
   "mimetype": "text/x-python",
   "name": "python",
   "nbconvert_exporter": "python",
   "pygments_lexer": "ipython3",
   "version": "3.8.10"
  }
 },
 "nbformat": 4,
 "nbformat_minor": 4
}
