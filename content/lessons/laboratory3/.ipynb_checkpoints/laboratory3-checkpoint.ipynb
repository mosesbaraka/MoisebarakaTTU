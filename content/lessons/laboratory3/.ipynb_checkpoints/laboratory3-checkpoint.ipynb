{
 "cells": [
  {
   "cell_type": "markdown",
   "metadata": {},
   "source": [
    "# 3. Flow Measurement\n",
    "_(This is a copy of the instructor notebook from Dr. Cleveland's website)_\n",
    "\n",
    "Flowrate can be measured indirectly with a venturi meter, orifice plate meter, and rotameter by a combination of continuity, the modified Bernoulli equation, and mass flowrate concepts. \n",
    "\n",
    "They are combined together to make the flow measurement apparatus below:\n",
    "\n",
    "![](flowapparatus.png)"
   ]
  },
  {
   "cell_type": "markdown",
   "metadata": {},
   "source": [
    "## Venturi Meter\n",
    "\n",
    "The venturi meter is a combination of a converging tube, a throat and a diverging tube. \n",
    "The discharge of liquid is calculated by measuring the pressure differential between the inlet and the\n",
    "throat which is caused by the differences in diameters.  The shape of the venturi is designed to minimize energy loss in the device.\n",
    "\n",
    "![](venturimeter1.png) ![](venturidrawing.png)\n",
    "\n",
    "Using continunity\n",
    "\n",
    "$$ \\rho V_1 A_1 = \\rho V_2 A_2 $$\n",
    "\n",
    "Defninition of discharge and modified Bernoulli equation is:\n",
    "\n",
    "\n",
    "$$Q = A_2~V_2 = A_2~(\\frac{2g}{1-\\frac{A_2^2}{A_1^2}})~\\sqrt{\\frac{P_1}{\\rho g}-\\frac{P_2}{\\rho g}}$$\n"
   ]
  },
  {
   "cell_type": "markdown",
   "metadata": {},
   "source": [
    "## Orifice Plate Meter\n",
    "\n",
    "An orifice meter is a round opening in a plate. \n",
    "This device is then put within the pipe so that it is perpendicular to the direction of flow. \n",
    "\n",
    " ![](orificeplatemeter.png) ![](orificemeterdrawing.png)\n",
    "\n",
    "Externally they look like a very short section of pipe between two flanges as in the photograph above\n",
    "\n",
    "\n",
    "\n",
    "Discharge is determined by measuring the head loss between the upstream and downstream of the device. \n",
    "\n",
    "Head loss can be written in terms of a coefficient $K$, which varies with the type of the orifice meter.\n",
    "\n",
    "First consider a modified Bernoulli equation across the orifice plate\n",
    "\n",
    "$$\\frac{V_u^2}{2g}-\\frac{V_d^2}{2g}=K^2(\\frac{P_u}{\\rho g}-\\frac{P_d}{\\rho g})$$\n",
    "\n",
    "Then continunity to arrive at a structure to estimate discharge\n",
    "\n",
    "$$Q = A_u~V_u = KA_u~(\\frac{2g}{1-\\frac{A_d^2}{A_u^2}})~\\sqrt{\\frac{P_u}{\\rho g}-\\frac{P_d}{\\rho g}}$$\n"
   ]
  },
  {
   "cell_type": "markdown",
   "metadata": {},
   "source": [
    "## Rotameter\n",
    "\n",
    "\n",
    "\n",
    "The rotameter measures flowrate by detecting the position of the float. It is a vertical tapered tube with a moveable plug inside. It is one kind of variable-area flow-meter. \n",
    "\n",
    "![](rotameterinstalled.png) ![](rotameterprinciples.png)\n",
    "\n",
    "Because of the greater flow area at the top, velocity is lower than the bottom of the tapered tube. \n",
    "The flowing fluid lifts the plug up by the drag force (just like Stoke's Law) created by the fluid. \n",
    "The weight of the plug acts downward. The equilibrium position of the plug depends on the flowrate which is indicative of the rate with which the fluid is passing."
   ]
  },
  {
   "cell_type": "markdown",
   "metadata": {},
   "source": [
    "## Mass Flow Meters\n",
    "\n",
    "A mass flow meter directly measures the flow by means of a near zero-inertia turbine that is rotated by liquid moving through the device (a mass flow sensor), the rotating turbine has a small ring that is magnetic, but is interrupted in one portion. Inside the cap is a hall detector (a coil) that converts the rotating magnetic field into a digital pulse that the microprocessor can count. These scale in size to very large devices but the general principle of operation is the same.  The figure below shows a small (20L/minute) flowmeter.\n",
    "\n",
    "![](massflowmeter.png)"
   ]
  },
  {
   "cell_type": "markdown",
   "metadata": {},
   "source": [
    "## Link to Laboratory Document\n",
    "\n",
    "1. [Laboratory 3 Tasklist](http://54.243.252.9/ce-3105-webroot/2-Exercises/laboratory3/laboratory3.html)\n",
    "2. [Laboratory 3 Instructional Video by Dr. Uddameri](https://www.youtube.com/watch?v=rIiR-dSHYvM)"
   ]
  },
  {
   "cell_type": "markdown",
   "metadata": {},
   "source": [
    "## References\n",
    "\n",
    "1. [Holman, J.P., (2012) Experimental Methods for Engineers, 8th Ed. (Chapters 6 and 7)](https://mech.at.ua/HolmanICS.pdf)"
   ]
  },
  {
   "cell_type": "code",
   "execution_count": null,
   "metadata": {},
   "outputs": [],
   "source": []
  }
 ],
 "metadata": {
  "kernelspec": {
   "display_name": "Python 3 (ipykernel)",
   "language": "python",
   "name": "python3"
  },
  "language_info": {
   "codemirror_mode": {
    "name": "ipython",
    "version": 3
   },
   "file_extension": ".py",
   "mimetype": "text/x-python",
   "name": "python",
   "nbconvert_exporter": "python",
   "pygments_lexer": "ipython3",
   "version": "3.12.6"
  },
  "widgets": {
   "application/vnd.jupyter.widget-state+json": {
    "state": {},
    "version_major": 2,
    "version_minor": 0
   }
  }
 },
 "nbformat": 4,
 "nbformat_minor": 4
}
