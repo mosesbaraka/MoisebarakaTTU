{
 "cells": [
  {
   "cell_type": "markdown",
   "metadata": {},
   "source": [
    "# 4. Pipe Friction\n",
    "\n",
    "This experiment examines the friction in a narrow diameter tube (pipe).\n",
    "\n",
    "## Objectives\n",
    "- Observe the behavior of flow with change in velocity and Reynolds number\n",
    "- Observe the variation of frictional loss with change in velocity"
   ]
  },
  {
   "cell_type": "markdown",
   "metadata": {},
   "source": [
    "## Modified Bernoulli Equation\n",
    "\n",
    "The equation below is the one-dimensional steady flow form of the energy equation typically applied for pressurized conduit hydraulics.\n",
    " \n",
    "$$\n",
    "\\begin{equation}\n",
    "\\frac{p_1}{\\rho g}+\\alpha_1 \\frac{V_1^2}{2g} + z_1 + h_p =\n",
    "\\frac{p_2}{\\rho g}+\\alpha_2 \\frac{V_2^2}{2g} + z_2 + h_t + h_l\n",
    "\\label{eqn:closed-conduit-energy-equation}\n",
    "\\end{equation}\n",
    "$$\n",
    "\n",
    "where $\\frac{p}{\\rho g}$ is the pressure head at a location, $\\alpha \\frac{V^2}{2g}$ is the velocity head at a location, $z$ is the elevation, $h_p$ is the added head from a pump, $h_t$ is the added head extracted by a turbine, and $h_l$ is the head loss between sections 1 and 2.   {numref}`closed-conduit-energy` is a sketch that illustrates the various components in the energy equation.\n",
    "\n",
    "```{figure} closed-conduit-energy.png\n",
    "---\n",
    "width: 400px\n",
    "name: closed-conduit-energy\n",
    "---\n",
    "Definition sketch for energy equation\n",
    "```\n",
    "\n",
    "In pipeline analysis this energy equation is applied to a link that joins two nodes.\n",
    "Pumps and turbines would be treated as separate components (links) and their hydraulic behavior must be supplied using their respective pump/turbine curves."
   ]
  },
  {
   "cell_type": "markdown",
   "metadata": {},
   "source": [
    "## Flow Regimes\n",
    "Laminar flow occurs at low velocities when the particles of waters move in\n",
    "parallel straight lines. The flow is smooth and well-ordered. As the velocity\n",
    "increases, the movement becomes undulating and at some point it breaks into\n",
    "vortices. The flow is turbulent in this case. Reynolds number classifies\n",
    "whether the flow is laminar or turbulent. For a circular pipe, it can be ex-\n",
    "pressed as\n",
    "\n",
    "$$Re = \\frac{\\rho vD}{\\mu} = \\frac{vD}{\\nu}$$\n",
    "\n",
    "It is nearly impossible for turbulent flow to occur at Reynolds number less\n",
    "than 2000 as the turbulence will be restrained by the viscous resistance.\n",
    "However, there is a stage when laminar flow is becoming turbulent or turbulent is becoming laminar. This is transitional flow. \n",
    "\n",
    "For smooth pipes, the common classifications are:\n",
    "\n",
    "- Laminar Flow: $Re < 2000$\n",
    "- Transitional Flow: $2000 \\le Re \\le 4000$\n",
    "- Turbulent Flow: $Re > 4000$\n",
    "\n",
    "For laminar flow, the head loss due to friction is directly proportional to the velocity:\n",
    "$\\frac{\\Delta h}{L} \\propto v$\n",
    "\n",
    "For turbulent flow, the head loss due to friction is proportional to the velocity\n",
    "to a given power, $n$:\n",
    "$\\frac{\\Delta h}{L} \\propto v^n$\n",
    "\n",
    "The exponent, $n$ varies between 1.75 and 2. \n",
    "\n",
    "The flow velocity, $u$ can be found from the continuity equation when the\n",
    "cross-sectional area of the pipe is known:\n",
    "\n",
    "$$u = \\frac{Q}{A}$$"
   ]
  },
  {
   "cell_type": "markdown",
   "metadata": {},
   "source": [
    "## Friction Factors\n",
    "\n",
    "The friction factor, $f$ can be found using Darcy-Weisbach equation:\n",
    "\n",
    "$$f = \\frac{2 \\Delta h~g D}{L v^2} $$\n",
    "\n",
    "The necessary physical water properties corresponding to water temperature\n",
    "should be used. They can be found in tables such as [http://54.243.252.9/toolbox/fluidmechanics/WaterPropertiesUS/WaterPropertiesUS.html](http://54.243.252.9/toolbox/fluidmechanics/WaterPropertiesUS/WaterPropertiesUS.html), or from any fluid mechanics textbook.\n",
    "\n",
    "{numref}`labsetup` is a photograph of the experimental setup\n",
    "\n",
    "```{figure} labsetup.png\n",
    "---\n",
    "width: 400px\n",
    "name: labsetup\n",
    "---\n",
    "Photograph of Laboratory Set-Up (for Low-Flow Measurements)\n",
    "```"
   ]
  },
  {
   "cell_type": "markdown",
   "metadata": {},
   "source": [
    "## Link to Laboratory Document\n",
    "\n",
    "1. [Laboratory 4 Tasklist](http://54.243.252.9/ce-3105-webroot/2-Exercises/laboratory4/laboratory4.html)\n",
    "2. [Laboratory 4 Instructional Video by Dr. Uddameri](https://www.youtube.com/watch?v=Xu132UBglpw)"
   ]
  },
  {
   "cell_type": "markdown",
   "metadata": {},
   "source": [
    "## References\n",
    "\n",
    "1. [Laboratory 4 (circa 2020)](http://54.243.252.9/ce-3105-webroot/pdf-source/Experiment4FrictionLossinaPipe.pdf)\n",
    "2. [H-7 Friction Loss in a Pipe (User Manual)](http://54.243.252.9/ce-3105-webroot/7-user-manuals/H7-FrictionLossInAPipe.pdf)"
   ]
  },
  {
   "cell_type": "code",
   "execution_count": null,
   "metadata": {},
   "outputs": [],
   "source": []
  }
 ],
 "metadata": {
  "kernelspec": {
   "display_name": "Python 3",
   "language": "python",
   "name": "python3"
  },
  "language_info": {
   "codemirror_mode": {
    "name": "ipython",
    "version": 3
   },
   "file_extension": ".py",
   "mimetype": "text/x-python",
   "name": "python",
   "nbconvert_exporter": "python",
   "pygments_lexer": "ipython3",
   "version": "3.8.10"
  }
 },
 "nbformat": 4,
 "nbformat_minor": 4
}