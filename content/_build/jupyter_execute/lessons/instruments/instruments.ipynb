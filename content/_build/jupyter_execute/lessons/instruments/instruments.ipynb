{
 "cells": [
  {
   "cell_type": "markdown",
   "metadata": {},
   "source": [
    "# Laboratory Equipment Description \n",
    "\n",
    "## Primary Items\n",
    "\n",
    "The Fluids Laboratory is located in Room 178 of the CE building.  It contains one TecQuipment H1D Volumetric Bench, one TecQuipment H314 hydrostatics and fluid properties test bench, one TecQuipment H83 two-stage centrifugal pump test set, with digital pressure output and data acquisition system, one ELD Model B-16 hydraulic demonstration channel, and one Armfield S11 Groundwater Flow/Well Abstraction Apparatus.\n",
    "\n",
    "TecQuipment H314 hydrostatics and fluid properties test bench is used for center-of-pressure experiments to illustrate the calculation of forces on submerged objects, and can be used for viscosity demonstrations leveraging Stokes’ Law. The TecQuipment H1D Volumetric Bench is used for: (1) flow measurement experiments to illustrate different technologies using the TecQuipment H10 Flow Measurement Apparatus; (2) Friction loss in a pipe using the TecQuipment H7 Apparatus, and the Header Tank attachment to the H1D bench. apparatus and either manometry or a differential pressure transducer instrument; (3) fitting loss experiments using TecQuipment H34 Pipework Energy Losses Apparatus; (4) momentum transfer experiments using TecQuipment H8 Impact of a Jet Apparatus. The TecQuipment H83 two-stage centrifugal pump test set is used to demonstrate the methods employed by pump manufacturers to generate pump performance curves and to demonstrate the behavior of pumps in series and parallel.  This apparatus has a data acquisition feature, so data are sent to a laptop computer for capture and analysis. The ELD Model B-16 tilting open channel flume is used to: (1) demonstrate (and measure sequent and alternate depths) supercritical to subcritical transitions; (2) determine frictional resistance over a rock bed. The Armfield Groundwater Flow/Well Abstraction Apparatus is available to demonstrate porous media flow to wells.\n",
    "\n",
    "Instructions on use of the various equipment is made available (as is the instructors’ notes) at http://54.243.252.9/ce-3105-webroot/ hosted on AWS.\n",
    "\n",
    "## Ancillary Items\n",
    "\n",
    "## References\n",
    "\n",
    "1. [TecQuipment](https://www.tecquipment.com/) designs and manufactures egineering teaching equipment used by universities,colleges, and technical training institutions around the world.  Most of the equipment is sourced and fabricated in the UK.\n",
    "2. [Engineering Laboratory Design, Inc.](http://www.eldinc.com/hydraulic-channels) designs and manufactures custom and standard fluid dynamics equipment.  Their products include: Wind Tunnels (Subsonic),Water Tunnels, Hydraulic Channels, Thermal Cooling Tesatbeds, and Flow Test Circuits\n",
    "3. [Armfield](https://armfield.co.uk/product/s11-ground-water-flow-unit/) Education Division designs and manufactures equipment for engineering education and research. Used by universities, colleges, schools and research centres around the globe, Armfield equipment is known for innovative designs and a level of quality unmatched in the industry. \n",
    "\n"
   ]
  },
  {
   "cell_type": "code",
   "execution_count": null,
   "metadata": {},
   "outputs": [],
   "source": []
  }
 ],
 "metadata": {
  "kernelspec": {
   "display_name": "Python 3",
   "language": "python",
   "name": "python3"
  },
  "language_info": {
   "codemirror_mode": {
    "name": "ipython",
    "version": 3
   },
   "file_extension": ".py",
   "mimetype": "text/x-python",
   "name": "python",
   "nbconvert_exporter": "python",
   "pygments_lexer": "ipython3",
   "version": "3.8.10"
  }
 },
 "nbformat": 4,
 "nbformat_minor": 4
}