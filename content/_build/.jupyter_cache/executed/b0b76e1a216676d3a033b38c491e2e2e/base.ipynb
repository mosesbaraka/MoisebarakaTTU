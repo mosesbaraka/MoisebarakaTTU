{
 "cells": [
  {
   "cell_type": "code",
   "execution_count": 1,
   "metadata": {},
   "outputs": [
    {
     "name": "stdout",
     "output_type": "stream",
     "text": [
      "Stokes flow speed limit =  56.158131  millimeters per second\n"
     ]
    }
   ],
   "source": [
    "# Estimate Sphere Falling Speed assuming laminar flow\n",
    "gravity = 9.81 #m/s^2\n",
    "viscosity = 15.103 # Ns/m^2\n",
    "density_liquid = (69.5/50)*1000*1000 #kg/m^3\n",
    "density_sphere = (11.350)*1000*1000 #kg/m^3\n",
    "diameter = 0.0125 #meters - nominal 2.5mm\n",
    "upper_support_terminal_speed = (gravity*diameter**2)*(density_sphere-density_liquid)/(18.0*viscosity)\n",
    "print(\"Stokes flow speed limit = \",round(upper_support_terminal_speed,6),\" millimeters per second\")"
   ]
  },
  {
   "cell_type": "code",
   "execution_count": null,
   "metadata": {},
   "outputs": [],
   "source": []
  }
 ],
 "metadata": {
  "kernelspec": {
   "display_name": "Python 3",
   "language": "python",
   "name": "python3"
  },
  "language_info": {
   "codemirror_mode": {
    "name": "ipython",
    "version": 3
   },
   "file_extension": ".py",
   "mimetype": "text/x-python",
   "name": "python",
   "nbconvert_exporter": "python",
   "pygments_lexer": "ipython3",
   "version": "3.8.10"
  }
 },
 "nbformat": 4,
 "nbformat_minor": 4
}