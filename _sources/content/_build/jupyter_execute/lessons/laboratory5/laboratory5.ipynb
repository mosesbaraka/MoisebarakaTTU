{
 "cells": [
  {
   "cell_type": "markdown",
   "metadata": {},
   "source": [
    "# 5. Fitting (Minor) Losses in Pipe Systems\n",
    "\n"
   ]
  },
  {
   "cell_type": "markdown",
   "metadata": {},
   "source": [
    "Pipe networks have numerous fittings: mitre bends, elbow bends,\n",
    "large radius bends, sudden expansions and sudden contractions. There are losses due to these fittings which are known as fitting or minor losses which cause noticable pressure drops. Pressure loss across a fitting is the difference between the\n",
    "pressure at the upstream and downstream of that fitting.\n",
    "\n",
    "## Expansions and Contractions\n",
    "\n",
    "In a sudden expansion, the flow splits when it is entering the bigger diameter pipe from the smaller diameter pipe. Head is lost due to the diffusion\n",
    "and eddies in the corners. In sudden contraction, flow area is contracted\n",
    "which is known as vena contracta because of the jet formation. Head loss is\n",
    "due to vortices and eddies. Figure 1 illustrates loss at a pipe fitting:\n",
    "\n",
    "![](fittingloss.png)\n",
    "\n",
    "For the fitting above, the total head loss:\n",
    "\n",
    "$$ \\Delta H = \\Delta h + \\frac{V_u^2}{2g} - \\frac{V_d^2}{2g} $$\n",
    "\n",
    "The loss coefficient K is defined as\n",
    "\n",
    "$$ K = \\frac{\\Delta H~2g}{V_d^2} $$ \n",
    "\n",
    "or\n",
    "\n",
    "$$ K = \\frac{\\Delta H~2g}{V_u^2} $$ \n",
    "\n",
    "Usually the velocity associated with the smaller diameter part of the fitting is used.\n",
    "\n",
    "In this experiment, the mitre and elbow have constant pipe diameters. Therefore, $V_u$ and $V_d$ are the same. \n",
    "\n",
    "For the sudden enlargement, the upstream velocity is used to express the velocity head. \n",
    "For the sudden contraction, the downstream velocity characterizes the velocity head.\n",
    "\n",
    "## Bends\n",
    "\n",
    "When liquid is flowing through a $90^o$ bend, depending on the ratio of radius of\n",
    "curvature to diameter of the pipe ($\\frac{R}{D}$), amount of loss differs. Smaller loss is associated with easier flow path and lower the minor loss coefficient, K\n",
    "value is. Following table summarizes the typical K values for different bends\n",
    "\n",
    "![](SomeKvalues.png)\n"
   ]
  },
  {
   "cell_type": "markdown",
   "metadata": {},
   "source": [
    "## Loss Model Structure\n",
    "\n",
    "The loss model(s) are usually of the structure \n",
    "\n",
    "$$ \\Delta H = K~\\frac{V^2}{2g} $$ \n",
    "\n",
    "where the velocity is taken as the larger value  in the case of a diameter change.\n",
    "\n",
    "The $K$ values are determined from\n",
    "\n",
    "### Bend\n",
    "\n",
    "$$ K = \\frac{\\Delta H}{\\frac{V^2}{2g}} $$ \n",
    "\n",
    "### Expansion\n",
    "\n",
    "$$ K = \\frac{\\Delta H}{\\frac{V_u^2}{2g}} $$ \n",
    "\n",
    "The $K$ value can be approximated from\n",
    "\n",
    "$$K=[1- \\frac{A_u}{A_d}]^2$$\n",
    "\n",
    "### Contraction\n",
    "\n",
    "$$ K = \\frac{\\Delta H}{\\frac{V_d^2}{2g}} $$ \n",
    "\n",
    "The $K$ value can be approximated from\n",
    "\n",
    "$$K=[ \\frac{A_d}{A_u}-1]^2$$\n"
   ]
  },
  {
   "cell_type": "markdown",
   "metadata": {},
   "source": [
    "## Apparatus Layout and Operation\n",
    "\n",
    "![](apparatus.png)\n",
    "\n",
    "The figure depicts the experimental apparatus used.  The operational procedure is:\n",
    "\n",
    "1. Close the exit valve on the left side of the flow circuit, and then turn on the water source\n",
    "2. Slowly open the exit valve on the apparatus, and watch the water levels in the manometer tubes\n",
    "3. Determine the flow rate of the liquid by measuring the time it takes to fill a known volume.\n",
    "4. Record the differential pressure readings across each of the fittings\n",
    "5. Repeat step 3 and 4 to obtain data for at least five different flow rates by adjusting the exit valve"
   ]
  },
  {
   "cell_type": "markdown",
   "metadata": {},
   "source": [
    "## Link to Laboratory Document\n",
    "\n",
    "1. [Laboratory 5 Tasklist](http://54.243.252.9/ce-3105-webroot/2-Exercises/laboratory5/laboratory5.html)\n",
    "2. [Laboratory 5 Instructional Video by Dr. Uddameri](https://www.youtube.com/watch?v=TXKumBf9Pdc)"
   ]
  },
  {
   "cell_type": "markdown",
   "metadata": {},
   "source": [
    "## References\n"
   ]
  },
  {
   "cell_type": "markdown",
   "metadata": {},
   "source": [
    "1. [Fitting Loses in Pipes](https://www.ese.iitb.ac.in/sites/default/files/Losses%20Due%20To%20Pipe%20Fittings.pdf)\n",
    "2. [Fitting Loss Coefficients (Tabular)](https://neutrium.net/fluid-flow/pressure-loss-from-fittings-excess-head-k-method/)\n",
    "3. [H-34 Pipe Network Energy Losses (User Manual)](http://54.243.252.9/ce-3105-webroot/7-user-manuals/H34-PipeworkEnergyLosses.pdf)"
   ]
  },
  {
   "cell_type": "code",
   "execution_count": null,
   "metadata": {},
   "outputs": [],
   "source": []
  }
 ],
 "metadata": {
  "kernelspec": {
   "display_name": "Python 3",
   "language": "python",
   "name": "python3"
  },
  "language_info": {
   "codemirror_mode": {
    "name": "ipython",
    "version": 3
   },
   "file_extension": ".py",
   "mimetype": "text/x-python",
   "name": "python",
   "nbconvert_exporter": "python",
   "pygments_lexer": "ipython3",
   "version": "3.8.10"
  }
 },
 "nbformat": 4,
 "nbformat_minor": 4
}