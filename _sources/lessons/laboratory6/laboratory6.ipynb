{
 "cells": [
  {
   "cell_type": "markdown",
   "metadata": {},
   "source": [
    "# 6. Momentum Transfer\n",
    "\n"
   ]
  },
  {
   "cell_type": "markdown",
   "metadata": {},
   "source": [
    "## Water Jets\n",
    "\n",
    "Moving fluid, in natural or artificial systems, may exert forces on objects in contact with it. To analyze fluid motion, a finite region of the fluid (control volume) is usually selected, and the gross effects of the flow, such as its force or torque on an object, is determined by calculating the net mass rate that flows into and out of the control volume. These forces can be determined, as in solid mechanics, by the use of Newton’s second law, or by the momentum equation. The force exerted by a jet of fluid on a flat or curve surface can be resolved by applying the momentum equation. The study of these forces is essential to the study of fluid mechanics and hydraulic machinery.\n",
    "\n",
    "Engineers and designers use the momentum equation to accurately calculate the force that moving fluid may exert on a solid body. For example, in hydropower plants, turbines are utilized to generate electricity. Turbines rotate due to force exerted by one or more water jets that are directed tangentially onto the turbine’s vanes or buckets. The impact of the water on the vanes generates a torque on the wheel, causing it to rotate and to generate electricity.\n",
    "\n",
    "The objective of this experiment is to investigate the reaction forces produced by the change in momentum of a fluid flow when a jet of water strikes a flat plate or a curved surface, and to compare the results from this experiment with the computed forces by applying the momentum equation."
   ]
  },
  {
   "cell_type": "markdown",
   "metadata": {},
   "source": [
    "## Conservation of Linear Momentum\n",
    "\n",
    "To explain the magnitude and direction of liquid stream change after it hits a vane, Newton's second law can be used to derive impulse momentum principle. For the horizontal vane below\n",
    "\n",
    "![](sketch.png)\n",
    "\n",
    "A vertical jet of liquid is coming out of the nozzle with a velocity $u$, hitting the vane with velocity $u_0$ and deflects at an angle $\\beta$ with the vertical axis with a velocity $u_1$. If the rate of flow is $\\dot m$ along the vertical axis, the rate of linear momentum entering the system is $\\dot m~u_0$. The linear momentum leaving in the same direction is $\\dot m~u_1cos(\\beta)$.The force on the vane along the vertical axis on the vane is the rate of change of linear momentum:\n",
    "$$ F = \\dot m (u_0-u_1 cos(\\beta) )$$\n",
    "\n",
    "A modified bernoulli equation along a streamline from the nozzle to the vane yields\n",
    "\n",
    "$$u_0^2 = u^2 - 2gs$$\n",
    "\n",
    "where $s$ is the distance from the nozzle exit to the vane, and $u$ is the velocity at the nozzle.  The result of substitution into the momentum balance produces a useable formula for equating force, vane shape, and jet velocity as\n",
    "\n",
    "$$F \\approx \\dot m u_0(1-cos(\\beta))$$\n",
    "\n",
    "Depending on the type of vane, theoretical force can be calculated using the above equation. The values are shown in the following table\n",
    "\n",
    "|Vane Type|Angle ($\\beta$)|Force|\n",
    "|:---|:------|:---|\n",
    "|Flat Plate| $\\frac{\\pi}{2}$ | $\\dot m u_0$|\n",
    "|Hemisphere| $\\frac{\\pi}{1}$ | $2\\dot m u_0$|\n",
    "\n",
    "The momentum in the jet (at the nozzle) is\n",
    "\n",
    "$$J = \\dot m u_0 = \\rho Q u_0$$\n",
    "\n",
    "The force on the vane can be determined using moments. For the pivoted weight beam below, the force $F$ is acting upward at a distance a from the pivot end. Mass of the weight beam is cancelled out using the balance spring, so the net downward force acting is the mass of the jockey $M$.\n",
    "\n",
    "![](moments.png)\n",
    "\n",
    "A static force balance for the beam in the Figure the above:\n",
    "\n",
    "$$ F \\alpha = M g (\\alpha + y)$$ \n",
    "\n",
    "solving for $F$\n",
    "\n",
    "$$F = \\frac{M g (\\alpha + y)}{\\alpha} $$\n",
    "\n",
    "$F$ is determined by knowing the values of $M$, $a$, and $g$, amd measuring $y$ for different flow rates.\n"
   ]
  },
  {
   "cell_type": "markdown",
   "metadata": {},
   "source": [
    "## Experimental Set-Up\n",
    "\n",
    "The arrangement of the systems are shown below for the flat plate and hemispherical cup, respectively\n",
    "\n",
    "![](flatplate.png) ![](cupplate.png)\n",
    "\n",
    "The experimental procedure is\n",
    "\n",
    "1. Install the Flat Plate Vane\n",
    "2. Ensure the weight beam is balanced at the zero position \n",
    "3. Start the hydraulic bench and adjust flow (work from high flow to low flow)\n",
    "4. Move the jockey weight until the beam balances again\n",
    "  - Record distance, y, from the zero position\n",
    "  - Record the flow rate using the hydraulic bench\n",
    "5. Change the hydraulic bench flow rate in relatively equal increments for 4 additional readings\n",
    "  - Record distance, y, from the zero position for each trial\n",
    "  - Record the flow rate using the hydraulic bench for each trial\n",
    "\n",
    "Repeat steps 2-5 for the Hemispherical Cup Vane"
   ]
  },
  {
   "cell_type": "markdown",
   "metadata": {},
   "source": [
    "## Link to Laboratory Document\n",
    "\n",
    "1. [Laboratory 6 Tasklist](http://54.243.252.9/ce-3105-webroot/2-Exercises/laboratory6/laboratory6.html)\n",
    "2. [Laboratory 6 Instructional Video by Dr. Uddameri](https://www.youtube.com/watch?v=ObcsCdlnIVM)"
   ]
  },
  {
   "cell_type": "markdown",
   "metadata": {},
   "source": [
    "## References\n",
    "\n",
    "<!-- 1. [Example Laboratory Report](http://54.243.252.9/ce-3105-webroot/2-Exercises/laboratory6/GobyLabReport6.pdf)-->\n",
    "\n",
    "1. [H8-Impact of a Jet (user manual)](http://54.243.252.9/ce-3105-webroot/7-user-manuals/H8-ImpactOfJet.pdf)\n",
    "2. [DF Elger, BC Williams, Crowe, CT and JA Roberson, Engineering Fluid Mechanics 10th edition, John Wiley & Sons, Inc., 2013. *(Momentum Equation pp. 208-238)*](http://54.243.252.9/ce-3305-webroot/3-Readings/EFM-9.pdf)"
   ]
  },
  {
   "cell_type": "code",
   "execution_count": null,
   "metadata": {},
   "outputs": [],
   "source": []
  }
 ],
 "metadata": {
  "kernelspec": {
   "display_name": "Python 3 (ipykernel)",
   "language": "python",
   "name": "python3"
  },
  "language_info": {
   "codemirror_mode": {
    "name": "ipython",
    "version": 3
   },
   "file_extension": ".py",
   "mimetype": "text/x-python",
   "name": "python",
   "nbconvert_exporter": "python",
   "pygments_lexer": "ipython3",
   "version": "3.12.6"
  },
  "widgets": {
   "application/vnd.jupyter.widget-state+json": {
    "state": {},
    "version_major": 2,
    "version_minor": 0
   }
  }
 },
 "nbformat": 4,
 "nbformat_minor": 4
}
