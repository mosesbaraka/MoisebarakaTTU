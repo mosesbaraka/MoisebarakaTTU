{
 "cells": [
  {
   "cell_type": "markdown",
   "metadata": {},
   "source": [
    "# 1. Fluid Properties\n",
    "\n"
   ]
  },
  {
   "cell_type": "markdown",
   "metadata": {},
   "source": [
    "## Density\n",
    "\n",
    "**Density** is a fundamental property of all materials including fluids. Density\n",
    "is typically denoted using symbol $\\rho$ and is defined as the ratio of mass to\n",
    "volume of the material of interest. \n",
    "\n",
    "As an equation in words:\n",
    "$$\\text{Density} = \\frac{\\text{Mass of the Fluid}}{\\text{Volume occupied by the fluid}}$$\n",
    "\n",
    "or more conventionally\n",
    "\n",
    "$$\\rho = \\frac{M}{V}$$\n",
    "\n",
    "At a given temperature and pressure the density of a given fluid is constant.\n",
    "Let us say we keep pouring some liquid into a beaker, as the mass increases\n",
    "so does the volume and density which is the ratio of mass to volume stays\n",
    "constant. \n",
    "\n",
    "In SI, the units of density are $\\frac{kg}{m^3}$. \n",
    "\n",
    "In FPS system density is reported either as $\\frac{\\text{slugs}}{ft^3}$ or  $\\frac{\\text{lbm}}{ft^3}$ where [*lbm*](https://en.wikipedia.org/wiki/Pound_(mass)) is pound mass."
   ]
  },
  {
   "cell_type": "markdown",
   "metadata": {},
   "source": [
    "## Specific Weight\n",
    "\n",
    "**Specific Weight** is the **weight** per unit volume of the material. \n",
    "Remember that weight is a force obtained by multiplying mass and gravitational acceleration (g). \n",
    "\n",
    "As an equation in words:\n",
    "\n",
    "$$\\text{Specific Weight} = \\frac{\\text{weight}}{\\text{volume}}$$\n",
    "\n",
    "or more conventionally\n",
    "\n",
    "$$\\gamma = \\frac{W}{V} = \\frac{m \\cdot g}{V}$$\n",
    "\n",
    "At a given temperature, pressure and location, the specific weight of a fluid\n",
    "is constant. However, the acceleration due to gravity varies slightly with\n",
    "location. The specific weight of a fluid is slightly lower at the poles than at the equator even when the temperature and pressure of the fluid are the same at both\n",
    "locations."
   ]
  },
  {
   "cell_type": "markdown",
   "metadata": {},
   "source": [
    "## Specific Gravity\n",
    "\n",
    "**Specific Gravity** is another important fluid property which is defined as the\n",
    "ratio of the density of a fluid to the density of water at the same temperature.\n",
    "Clearly, the specific gravity is equal to 1.0 for water. Fluids denser than\n",
    "water have a specific gravity greater than 1 while those lighter than water\n",
    "have specific gravity less than 1.\n",
    "\n",
    "$$SG = \\frac{\\rho_s}{\\rho_{H2O}} $$\n",
    "\n",
    "Being a ratio of two densities, specific gravity is a dimensionless quantity.\n",
    "Specific gravity can tell us whether an object will float or sink in water. Specific\n",
    "Gravity also provides consistency to compare fluids across different units."
   ]
  },
  {
   "cell_type": "markdown",
   "metadata": {},
   "source": [
    "## Viscosity\n",
    "\n",
    "**Viscosity** quantifies the ability of the fluid to resist shear stress (i.e.,\n",
    "internal resistance). One can also conceptualize viscosity as the frictional\n",
    "forces that exist between two layers of fluid that are in relative motion.\n",
    "\n",
    "**Dynamic Viscosity** measures the tangential force per unit area required to move one horizonal plane relative to another at a unit velocity when maintaining unit distance separation. The shear stress applied causes the fluid to flow (or flow causes stress). \n",
    "\n",
    "Newton's law of viscosity states that the shear stress, $\\tau$, is proportional to the velocity gradient (across the flow flow), $\\frac{du}{dy}$ (see Figure 1). \n",
    "Dynamic viscosity ,$\\mu$, is the constant of proportionality.\n",
    "\n",
    "<figure align=\"center\">\n",
    "<!--<img src=\"./Hydropower.png\" width=\"300\" >-->\n",
    "<img src=\"http://54.243.252.9/ce-3105-webroot/2-Exercises/laboratory1/shearstress.png\" width=\"300\" >\n",
    "<figcaption>Figure 1: Shear stress conceptual diagram </figcaption>\n",
    "</figure>\n",
    "\n",
    "Newton's law expressed as an equation is:\n",
    "$$\\tau = \\mu \\cdot \\frac{du}{dy} $$\n",
    "\n",
    "thus dynamic viscosity is the ratio of shear force to the velocity gradient. It has units of $ Pa \\cdot s = \\frac{kg \\cdot m}{s^2} \\cdot \\frac{s}{m^2}$. \n",
    "\n",
    "In cgs system the units of dynamic viscosity is Poise (or more commonly centipoise, cP). \n",
    "\n",
    "In US Customary units we express viscosity as $\\frac{lbf}{ft \\cdot s}$. \n",
    "\n",
    "In practical fluid mechanics, we often encounter the ratio of dynamic viscosity to density. This term is the **kinematic viscosity**. \n",
    "\n",
    "Expressed as an equation in commonly used notation:\n",
    "\n",
    "$$ \\nu = \\frac{\\mu}{\\rho}$$\n",
    "\n",
    "The kinematic viscosity has SI units of $$\\frac{m^2}{s}$$.\n",
    "\n",
    "A useful method to determine viscosity of liquids is to record the rate at which a\n",
    "sphere will fall through a liquid of interest. \n",
    "Under equilibrium conditions, the frictional forces experienced by the sphere will be equal to its weight. The sphere will fall at a constant speed known as the terminal velocity. \n",
    "The phenomenon is called Stokes law (or Stokes flow). \n",
    "\n",
    "A simple force balance is depicted in Figure 2, where the bouyant force and drag force are equal to the weight of the sphere.\n",
    "\n",
    "<figure align=\"center\">\n",
    "<!--<img src=\"./Hydropower.png\" width=\"300\" >-->\n",
    "<img src=\"http://54.243.252.9/ce-3105-webroot/2-Exercises/laboratory1/sphereforces.png\" width=\"300\" >\n",
    "<figcaption>Figure 2: Force balance on a sphere falling at constant velocity </figcaption>\n",
    "</figure>\n",
    "\n",
    "Stokes flow occurs at pretty low Reynolds numbers so the laminar correlation for the drag coefficient is appropriate\n",
    "\n",
    "$$ c_d = \\frac{24}{Re}+\\frac{4}{\\sqrt{Re}}+0.4 $$\n",
    "\n",
    "If the Reynolds number is less than $\\frac{1}{2}$ the drag coefficient is $c_d = \\frac{24}{Re}$, using this representation of drag the force balance for the sphere allows us to solve for velocity, $u$,\n",
    "\n",
    "$$ u = \\frac{g \\cdot d^2}{18 \\nu}(\\frac{\\sigma}{\\rho} -1)$$\n",
    "\n",
    "where, *g* is the acceleration due to gravity, *d* is the diameter of the sphere,\n",
    "$\\nu$ is the kinematic viscosity, $\\rho$ is the density of the sphere, $\\rho$ is the density of the fluid.\n",
    "\n",
    "We can apply the formula to get an idea of how fast to expect a sphere to fall if Stokes flow holds.  In the experiment we willuse Glycerine as the liquid phase, and small steel spheres the largest is about 2.5 millimeters"
   ]
  },
  {
   "cell_type": "code",
   "execution_count": 2,
   "metadata": {},
   "outputs": [
    {
     "name": "stdout",
     "output_type": "stream",
     "text": [
      "Stokes flow speed limit =  1.234732  millimeters per second\n"
     ]
    }
   ],
   "source": [
    "# Estimate Sphere Falling Speed assuming laminar flow\n",
    "gravity = 9.81 #m/s^2\n",
    "viscosity = 1.41 # Ns/m^2\n",
    "density_liquid = 1260 #kg/m^3\n",
    "density_sphere = 7700 #kg/m^3\n",
    "diameter = 0.025 #meters - nominal 2.5mm\n",
    "upper_support_terminal_speed = (gravity*diameter**2)*(density_sphere/density_liquid - 1.0)/(18.0*viscosity)\n",
    "print(\"Stokes flow speed limit = \",round(1000.0*upper_support_terminal_speed,6),\" millimeters per second\")"
   ]
  },
  {
   "cell_type": "markdown",
   "metadata": {},
   "source": [
    "So using the above script we conclude that we should be able to make measurements for spheres as large as 25 mm, using a stopwatch and visual observation, our spheres are quite a bit smaller, so we should have no issues."
   ]
  },
  {
   "cell_type": "markdown",
   "metadata": {},
   "source": [
    "## References\n",
    "\n",
    "1. [Engineering Fluid Mechanics](http://54.243.252.9/ce-3105-webroot/2-Exercises/laboratory1/EFM-2.pdf)\n",
    "2. [Engineering Fluid Mechanics (Cd for spheres) go to p.414](http://54.243.252.9/ce-3105-webroot/2-Exercises/laboratory1/EFM-22.pdf)\n",
    "3. [Holman, J.P., (2012) Experimental Methods for Engineers, 8th Ed. (Chapters 1-3)](https://mech.at.ua/HolmanICS.pdf)\n",
    "\n"
   ]
  },
  {
   "cell_type": "markdown",
   "metadata": {},
   "source": [
    "## Link to Laboratory Document\n",
    "\n",
    "1. [Laboratory 1 ](http://54.243.252.9/ce-3105-webroot/2-Exercises/laboratory1/laboratory1.html)"
   ]
  },
  {
   "cell_type": "code",
   "execution_count": null,
   "metadata": {},
   "outputs": [],
   "source": []
  }
 ],
 "metadata": {
  "kernelspec": {
   "display_name": "Python 3",
   "language": "python",
   "name": "python3"
  },
  "language_info": {
   "codemirror_mode": {
    "name": "ipython",
    "version": 3
   },
   "file_extension": ".py",
   "mimetype": "text/x-python",
   "name": "python",
   "nbconvert_exporter": "python",
   "pygments_lexer": "ipython3",
   "version": "3.8.10"
  }
 },
 "nbformat": 4,
 "nbformat_minor": 4
}
