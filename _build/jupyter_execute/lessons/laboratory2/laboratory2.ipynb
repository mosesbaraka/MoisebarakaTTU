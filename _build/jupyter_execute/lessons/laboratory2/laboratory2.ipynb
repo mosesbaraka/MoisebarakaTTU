{
 "cells": [
  {
   "cell_type": "markdown",
   "metadata": {},
   "source": [
    "# 2. Hydrostatic Forces and Bouyancy\n"
   ]
  },
  {
   "cell_type": "markdown",
   "metadata": {},
   "source": [
    "## Archimedes principle to measure buoyant forces\n",
    "\n",
    "The Archimedes' principle states *when a solid object is com-\n",
    "pletely immersed into a fluid (say water), the volume of the fluid displaced is\n",
    "equal to the volume of the object.* When an object is partially displaced then\n",
    "the volume of the water displaced is equal to the volume of the portion of the object that\n",
    "is immersed. \n",
    "\n",
    "Archimedes principle is useful to find the volume of irregularly shaped objects - Simply submerge them into a liquid and measure the volume displaced.\n",
    "\n",
    "A more detailed representation is \n",
    "- when a solid object is fully or partially submerged into a liquid then the upward buoyant force exerted by the liquid on the object is equal to the weight of the liquid displaced by the object. Mathematically, this can be stated as:\n",
    "\n",
    "$$B = W_f = \\rho  V_f g $$\n",
    "\n",
    "where, $V_f$ is the volume of the liquid displaced m3, $\\rho$ is the density of the liquid ($\\frac{$kg}{m^3}$), $g$ is the gravitational acceleration and $B$ is the buoyant force ($N$) and $W_f$ is the weight of the displaced liquid ($N$).\n",
    "\n",
    "Consider a submerged object shown in the Figure below. \n",
    "\n",
    "![](bouyancysketch.png)\n",
    "\n",
    "The weight of the object causes the body to sink into the liquid, while the upward buoyant force tries\n",
    "to push it up. If the object does not sink further (or raise) then these forces are balanced. \n",
    "\n",
    "For a submerged object, the volume of the object equals the volume of the liquid displaced. \n",
    "\n",
    "Therefore, the resultant force can be written as:\n",
    "$$B - w_o = (\\rho_{f} - \\rho_{o}) V_{o} g$$\n",
    "\n",
    "Where, $B$ is the buoyant force ($N$), $w_o$ is the weight of the object ($N$), $\\rho_f$\n",
    "is the density of the liquid,$\\rho_o$ is the density of the object, $g$ is\n",
    "the gravitational acceleration and $V_o$ is the volume of the object.\n",
    "\n",
    "From, Archimedes Principle, the Buoyant force (B) is equal to the weight of\n",
    "the liquid displaced. From the equation above, we can say an object will be pushed\n",
    "upward if $\\rho_f$ is greater $\\rho_o$ or sink (pushed downward) when $\\rho_f$ is smaller than $\\rho_o$.\n",
    "\n",
    ":::{note}\n",
    "It is important to remember that when an object sinks to the bottom of the\n",
    "liquid in a container, there is still a buoyant force acting on it. This buoyant\n",
    "force is still equal to the weight of the liquid that is displaced. However,\n",
    "the upward buoyant force exerted on the object is insufficient to overcome\n",
    "the downward gravitational force which causes the object to sink. In this\n",
    "situation, as the object is fully submerged, the volume of the object is equal\n",
    "to the volume of the liquid displaced. The object will feel lighter than in air\n",
    "due to buoyancy.\n",
    ":::\n",
    "\n",
    "When an object is floating on a surface (neither raising or sinking) then the\n",
    "volume of the liquid displaced by the object is not equal to the volume of the\n",
    "object. It is only equal to the volume of the object that is submerged in the\n",
    "liquid. However, the upward buoyant force of the liquid exactly balances the\n",
    "weight of the object. Also, from Archimedes principle, the buoyant force is\n",
    "equal to the weight of the liquid that is displaced. Mathematically,\n",
    "\n",
    "1. $B-w_0 = 0$\n",
    "2. $ \\rho_f V_f g = \\rho_o V_o g$\n",
    "3. $\\frac{V_o}{V_f} = \\frac{\\rho_f}{=rho_o}$"
   ]
  },
  {
   "cell_type": "markdown",
   "metadata": {},
   "source": [
    "## Forces on partially submerged plane surfaces\n",
    "\n",
    "![](center-o-pressure.png)\n",
    "\n",
    "The force exerted by liquids on surfaces they come to contact with is im-\n",
    "portant when determining engineering structures to hold uids (e.g., tanks,\n",
    "reservoirs). If water is our liquid of interest, then the hydrostatic pressure\n",
    "exerted by the liquid varies linearly with depth. It is equal to zero gage pres-\n",
    "sure when the water is open to atmosphere and increases downward (see\n",
    "the Figure below). \n",
    "\n",
    "For engineering design, we replace the pressure distribution with a resultant hydrostatic pressure acting at the centroid. This resultant force is obtained by multiplying the hydrostatic pressure with the cross-sectional area over which the liquid exerts the pressure. The pressure is assumed to act\n",
    "normal to this planar area. The point where the resultant pressure (force) is assumed to act is also referred to the center of pressure (see Figure above).\n",
    "The center of the pressure is defined as \"the point in a plane at which the\n",
    "total liquid thrust is be acting normal on that plane\". \n",
    "\n",
    "The sketch below show the apparatus which permits the moment caused by the total liquid thrust on a wholly or partially submerged plane surface to be measured directly and compared with theoretical analysis. \n",
    "\n",
    "![](moment-sketch.png)\n",
    "\n",
    "The photograph below illustrates the apparatus set up in the laboratory\n",
    "\n",
    "![](moment-setup.png)\n",
    "\n",
    "The following analysis is applied to the general condition of plane surface at\n",
    "various angles when it is wholly or partially submerged in a liquid.\n",
    "Consider an element at an inclined depth $y$ and height $\\delta y$. \n",
    "\n",
    "The force on this infinitesimal (itty-bitty) element can be written as:\n",
    "\n",
    "$$\\delta F = \\gamma_w W(y~cos(\\theta) - h) \\delta y $$\n",
    "\n",
    "Where, $\\gamma_w$ is the weight per unit volume of the liquid , $W$ is the width\n",
    "of the plane normal to the direction of the force and $h$ is the height to the water surface measured from the pivot point O (see the apparatus sketch). \n",
    "\n",
    "The moment of force on element about the point O, $\\delta M$ can be written as\n",
    "\n",
    "$$\\delta M_O = \\gamma_w W(y~cos(\\theta) - h)y \\delta y $$\n",
    "\n",
    "The total moment (M) over the entire submerged surface can be obtained by\n",
    "integrating:\n",
    "\n",
    "$$M = \\int_{ll}^{ul}{\\delta M_O} = \\int_{ll}^{ul}{\\gamma_w W(y^2~cos(\\theta) - hy) \\delta y} $$\n",
    "\n",
    "The limits of integration in 8 depends upon whether the plane is fully sub-\n",
    "merged or partially submerged. For the fully submerged case, the limits are\n",
    "from R1 to R2 and the equation for the moment around point O can be\n",
    "written as:\n",
    "\n",
    "$$M = \\int_{R_1}^{R_2}{\\gamma_w W(y^2~cos(\\theta) - hy) \\delta y}= \\frac{\\gamma_w W~cos(\\theta)}{3}(R_2^3-R_1^3) - \\frac{\\gamma_w W}{2}(R_2^2-R_1^2)h$$\n",
    "\n",
    "This equation is of the form of y = mx + b,therefore, a plot of M against h will yield a straight line of gradient \n",
    "\n",
    "$$- \\frac{\\gamma_w W}{2}(R_2^2-R_1^2)$$\n",
    "\n",
    "\n",
    "This slope can be used to calculate the unknown specific weight $\\gamma_w$.\n",
    "\n",
    "For a partially submerged plane, the limits of the integration are from $R_2$ to $hsec(\\theta)$. The moment in this case is given as:\n",
    "\n",
    "$$M = \\frac{\\gamma_w W sec^2(\\theta)h^3}{6} + \\frac{\\gamma_w W cos(\\theta) R_2^3}{3} - \\frac{\\gamma_w W R_2^2 h}{2}$$\n",
    "\n",
    "A plot of $M + \\frac{\\gamma_w W R_2^2 h}{2}$ versus $h^3$ will result in a straight line plot."
   ]
  },
  {
   "cell_type": "markdown",
   "metadata": {},
   "source": []
  },
  {
   "cell_type": "markdown",
   "metadata": {},
   "source": [
    "## Link to Laboratory Document\n",
    "\n",
    "1. [Laboratory 2 Tasklist](http://54.243.252.9/ce-3105-webroot/2-Exercises/laboratory2/laboratory2.html)\n",
    "2. [Laboratory 2 Instructional Video by Dr. Uddameri](https://www.youtube.com/watch?v=_0zJg4kfYwY)"
   ]
  },
  {
   "cell_type": "markdown",
   "metadata": {},
   "source": [
    "## References\n",
    "\n",
    "1. [Fluid Statics *in Engineering Fluid Mechanics*](http://54.243.252.9ce-3105-webroot/2-Exercises/laboratory2/EFM-3.pdf)\n",
    "\n",
    "2. [Holman, J.P., (2012) Experimental Methods for Engineers, 8th Ed. (Chapters 5,6, and 10)](https://mech.at.ua/HolmanICS.pdf)\n",
    "\n",
    "3. [Forces on Planes, Archimedes Principle (Laboratory 2 circa 2020](http://54.243.252.9/ce-3105-webroot/pdf-source/Experiment2Archimedes.pdf)\n",
    "\n",
    "<!-- 4. [Laboratory 2 Example Report](http://54.243.252.9/ce-3105-webroot/2-Exercises/laboratory2/Goby2.pdf)-->"
   ]
  },
  {
   "cell_type": "markdown",
   "metadata": {},
   "source": []
  },
  {
   "cell_type": "code",
   "execution_count": null,
   "metadata": {},
   "outputs": [],
   "source": []
  }
 ],
 "metadata": {
  "kernelspec": {
   "display_name": "Python 3 (ipykernel)",
   "language": "python",
   "name": "python3"
  },
  "language_info": {
   "codemirror_mode": {
    "name": "ipython",
    "version": 3
   },
   "file_extension": ".py",
   "mimetype": "text/x-python",
   "name": "python",
   "nbconvert_exporter": "python",
   "pygments_lexer": "ipython3",
   "version": "3.11.9"
  },
  "widgets": {
   "application/vnd.jupyter.widget-state+json": {
    "state": {},
    "version_major": 2,
    "version_minor": 0
   }
  }
 },
 "nbformat": 4,
 "nbformat_minor": 4
}